{
 "cells": [
  {
   "cell_type": "code",
   "execution_count": 9,
   "metadata": {},
   "outputs": [],
   "source": [
    "import pandas as pd\n",
    "import numpy as np\n",
    "import math\n",
    "import os"
   ]
  },
  {
   "cell_type": "code",
   "execution_count": 10,
   "metadata": {},
   "outputs": [],
   "source": [
    "# Function to compute Shannon Diversity and Evenness\n",
    "def compute_shannon_diversity_and_evenness(p_values):\n",
    "    S = len(p_values)\n",
    "    H = -np.sum(p_values * np.log(p_values))\n",
    "    E = H / np.log(S)\n",
    "    return H, E\n",
    "\n",
    "# Function to compute Simpson Diversity and Evenness\n",
    "def compute_simpson_diversity_and_evenness(p_values):\n",
    "    D = 1 / np.sum(p_values * p_values)\n",
    "    E = D / len(p_values)\n",
    "    return D, E\n"
   ]
  },
  {
   "cell_type": "code",
   "execution_count": 11,
   "metadata": {},
   "outputs": [],
   "source": [
    "def compute_metrics(df):\n",
    "    # List of attributes\n",
    "    attributes = ['race', 'gender', 'emotion']\n",
    "\n",
    "    # Initialize a list to store results\n",
    "    results = []\n",
    "\n",
    "    # Compute diversity and evenness for each attribute\n",
    "    for attribute in attributes:\n",
    "        p_values = df[attribute].value_counts(normalize=True).values\n",
    "        shannon_diversity, shannon_evenness = compute_shannon_diversity_and_evenness(p_values)\n",
    "        simpson_diversity, simpson_evenness = compute_simpson_diversity_and_evenness(p_values)\n",
    "\n",
    "        result = {\n",
    "            'Attribute': attribute,\n",
    "            'Shannon Diversity': shannon_diversity,\n",
    "            'Shannon Evenness': shannon_evenness,\n",
    "            'Simpson Diversity': simpson_diversity,\n",
    "            'Simpson Evenness': simpson_evenness\n",
    "        }\n",
    "\n",
    "        results.append(result)\n",
    "\n",
    "    # Create a new DataFrame to store results\n",
    "    results_df = pd.DataFrame(results)\n",
    "    return results_df"
   ]
  },
  {
   "cell_type": "code",
   "execution_count": 12,
   "metadata": {},
   "outputs": [],
   "source": [
    "def count_attributes(df):\n",
    "    # List of attribute names\n",
    "    attributes = ['race', 'gender', 'emotion']\n",
    "\n",
    "    # Display categories and counts for each attribute\n",
    "    for attribute in attributes:\n",
    "        attribute_counts = df[attribute].value_counts()\n",
    "        print(f\"Categories and counts for {attribute}:\")\n",
    "        print(attribute_counts)\n",
    "        print(\"\\n\")\n",
    "    "
   ]
  },
  {
   "cell_type": "markdown",
   "metadata": {},
   "source": [
    "### Reading Files"
   ]
  },
  {
   "cell_type": "code",
   "execution_count": 13,
   "metadata": {},
   "outputs": [],
   "source": [
    "# Get the current working directory\n",
    "cwd = os.getcwd()\n",
    "\n",
    "\n",
    "# File paths for the two CSV files from different repositories\n",
    "file_path1 = os.path.join(cwd, '..', 'Data', 'protected_attributes_post_eda.csv')\n",
    "file_path2 = os.path.join(cwd, '..', 'Data','images_generated_stable_diffusion_vggnet.csv')\n",
    "file_path3 = os.path.join(cwd, '..', 'Data Generation-Stable Diffusion','miss_classified_image_samples_vgg_net.csv')\n",
    "\n",
    "# Read the CSV files into data frames\n",
    "df1 = pd.read_csv(file_path1)\n",
    "df2 = pd.read_csv(file_path2)\n",
    "df3 = pd.read_csv(file_path3)\n",
    "df1.columns = [\"image_id\", \"race\", \"gender\", \"emotion\"]\n",
    "df2.columns = [\"image_id\", \"race\", \"gender\", \"emotion\"]\n",
    "df1 = df1.drop([\"image_id\"], axis=1)"
   ]
  },
  {
   "cell_type": "markdown",
   "metadata": {},
   "source": [
    "### Original dataset"
   ]
  },
  {
   "cell_type": "code",
   "execution_count": 14,
   "metadata": {},
   "outputs": [
    {
     "name": "stdout",
     "output_type": "stream",
     "text": [
      "Categories and counts for race:\n",
      "race\n",
      "white              7027\n",
      "asian               968\n",
      "latino hispanic     953\n",
      "black               724\n",
      "middle eastern      584\n",
      "Name: count, dtype: int64\n",
      "\n",
      "\n",
      "Categories and counts for gender:\n",
      "gender\n",
      "Woman    5959\n",
      "Man      4297\n",
      "Name: count, dtype: int64\n",
      "\n",
      "\n",
      "Categories and counts for emotion:\n",
      "emotion\n",
      "happy       4551\n",
      "neutral     3120\n",
      "sad         1183\n",
      "fear         760\n",
      "angry        471\n",
      "surprise     140\n",
      "disgust       31\n",
      "Name: count, dtype: int64\n",
      "\n",
      "\n",
      "Total samples: 10256\n"
     ]
    }
   ],
   "source": [
    "count_attributes(df1)\n",
    "print(\"Total samples:\", len(df1))"
   ]
  },
  {
   "cell_type": "code",
   "execution_count": 15,
   "metadata": {},
   "outputs": [],
   "source": [
    "results_df = compute_metrics(df1)"
   ]
  },
  {
   "cell_type": "code",
   "execution_count": 16,
   "metadata": {},
   "outputs": [
    {
     "data": {
      "text/html": [
       "<div>\n",
       "<style scoped>\n",
       "    .dataframe tbody tr th:only-of-type {\n",
       "        vertical-align: middle;\n",
       "    }\n",
       "\n",
       "    .dataframe tbody tr th {\n",
       "        vertical-align: top;\n",
       "    }\n",
       "\n",
       "    .dataframe thead th {\n",
       "        text-align: right;\n",
       "    }\n",
       "</style>\n",
       "<table border=\"1\" class=\"dataframe\">\n",
       "  <thead>\n",
       "    <tr style=\"text-align: right;\">\n",
       "      <th></th>\n",
       "      <th>Attribute</th>\n",
       "      <th>Shannon Diversity</th>\n",
       "      <th>Shannon Evenness</th>\n",
       "      <th>Simpson Diversity</th>\n",
       "      <th>Simpson Evenness</th>\n",
       "    </tr>\n",
       "  </thead>\n",
       "  <tbody>\n",
       "    <tr>\n",
       "      <th>0</th>\n",
       "      <td>race</td>\n",
       "      <td>1.052934</td>\n",
       "      <td>0.654225</td>\n",
       "      <td>2.019335</td>\n",
       "      <td>0.403867</td>\n",
       "    </tr>\n",
       "    <tr>\n",
       "      <th>1</th>\n",
       "      <td>gender</td>\n",
       "      <td>0.679959</td>\n",
       "      <td>0.980973</td>\n",
       "      <td>1.948823</td>\n",
       "      <td>0.974411</td>\n",
       "    </tr>\n",
       "    <tr>\n",
       "      <th>2</th>\n",
       "      <td>emotion</td>\n",
       "      <td>1.382167</td>\n",
       "      <td>0.710293</td>\n",
       "      <td>3.220081</td>\n",
       "      <td>0.460012</td>\n",
       "    </tr>\n",
       "  </tbody>\n",
       "</table>\n",
       "</div>"
      ],
      "text/plain": [
       "  Attribute  Shannon Diversity  Shannon Evenness  Simpson Diversity  \\\n",
       "0      race           1.052934          0.654225           2.019335   \n",
       "1    gender           0.679959          0.980973           1.948823   \n",
       "2   emotion           1.382167          0.710293           3.220081   \n",
       "\n",
       "   Simpson Evenness  \n",
       "0          0.403867  \n",
       "1          0.974411  \n",
       "2          0.460012  "
      ]
     },
     "execution_count": 16,
     "metadata": {},
     "output_type": "execute_result"
    }
   ],
   "source": [
    "results_df"
   ]
  },
  {
   "cell_type": "markdown",
   "metadata": {},
   "source": [
    "### Synthetic Augmented dataset"
   ]
  },
  {
   "cell_type": "markdown",
   "metadata": {},
   "source": [
    "### Miss classified image samples"
   ]
  },
  {
   "cell_type": "code",
   "execution_count": 17,
   "metadata": {},
   "outputs": [],
   "source": [
    "df3 = df3.drop([\"other_attributes\", \"count\"], axis = 1)"
   ]
  },
  {
   "cell_type": "code",
   "execution_count": 18,
   "metadata": {},
   "outputs": [
    {
     "name": "stdout",
     "output_type": "stream",
     "text": [
      "Categories and counts for race:\n",
      "race\n",
      "white              706\n",
      "latino hispanic    102\n",
      "asian               99\n",
      "black               64\n",
      "middle eastern      46\n",
      "Name: count, dtype: int64\n",
      "\n",
      "\n",
      "Categories and counts for gender:\n",
      "gender\n",
      "Woman    586\n",
      "Man      431\n",
      "Name: count, dtype: int64\n",
      "\n",
      "\n",
      "Categories and counts for emotion:\n",
      "emotion\n",
      "happy       433\n",
      "neutral     330\n",
      "sad         116\n",
      "fear         78\n",
      "angry        41\n",
      "surprise     15\n",
      "disgust       4\n",
      "Name: count, dtype: int64\n",
      "\n",
      "\n"
     ]
    }
   ],
   "source": [
    "count_attributes(df3)"
   ]
  },
  {
   "cell_type": "code",
   "execution_count": 19,
   "metadata": {},
   "outputs": [
    {
     "name": "stdout",
     "output_type": "stream",
     "text": [
      "Total misclassified samples prior data augmentation: 1017\n"
     ]
    }
   ],
   "source": [
    "print(\"Total misclassified samples prior data augmentation:\", len(df3))"
   ]
  },
  {
   "cell_type": "code",
   "execution_count": 20,
   "metadata": {},
   "outputs": [],
   "source": [
    "results_df1 = compute_metrics(df3)"
   ]
  },
  {
   "cell_type": "code",
   "execution_count": 21,
   "metadata": {},
   "outputs": [
    {
     "data": {
      "text/html": [
       "<div>\n",
       "<style scoped>\n",
       "    .dataframe tbody tr th:only-of-type {\n",
       "        vertical-align: middle;\n",
       "    }\n",
       "\n",
       "    .dataframe tbody tr th {\n",
       "        vertical-align: top;\n",
       "    }\n",
       "\n",
       "    .dataframe thead th {\n",
       "        text-align: right;\n",
       "    }\n",
       "</style>\n",
       "<table border=\"1\" class=\"dataframe\">\n",
       "  <thead>\n",
       "    <tr style=\"text-align: right;\">\n",
       "      <th></th>\n",
       "      <th>Attribute</th>\n",
       "      <th>Shannon Diversity</th>\n",
       "      <th>Shannon Evenness</th>\n",
       "      <th>Simpson Diversity</th>\n",
       "      <th>Simpson Evenness</th>\n",
       "    </tr>\n",
       "  </thead>\n",
       "  <tbody>\n",
       "    <tr>\n",
       "      <th>0</th>\n",
       "      <td>race</td>\n",
       "      <td>1.024870</td>\n",
       "      <td>0.636787</td>\n",
       "      <td>1.970626</td>\n",
       "      <td>0.394125</td>\n",
       "    </tr>\n",
       "    <tr>\n",
       "      <th>1</th>\n",
       "      <td>gender</td>\n",
       "      <td>0.681488</td>\n",
       "      <td>0.983179</td>\n",
       "      <td>1.954598</td>\n",
       "      <td>0.977299</td>\n",
       "    </tr>\n",
       "    <tr>\n",
       "      <th>2</th>\n",
       "      <td>emotion</td>\n",
       "      <td>1.386764</td>\n",
       "      <td>0.712656</td>\n",
       "      <td>3.254006</td>\n",
       "      <td>0.464858</td>\n",
       "    </tr>\n",
       "  </tbody>\n",
       "</table>\n",
       "</div>"
      ],
      "text/plain": [
       "  Attribute  Shannon Diversity  Shannon Evenness  Simpson Diversity  \\\n",
       "0      race           1.024870          0.636787           1.970626   \n",
       "1    gender           0.681488          0.983179           1.954598   \n",
       "2   emotion           1.386764          0.712656           3.254006   \n",
       "\n",
       "   Simpson Evenness  \n",
       "0          0.394125  \n",
       "1          0.977299  \n",
       "2          0.464858  "
      ]
     },
     "execution_count": 21,
     "metadata": {},
     "output_type": "execute_result"
    }
   ],
   "source": [
    "results_df1"
   ]
  },
  {
   "cell_type": "markdown",
   "metadata": {},
   "source": [
    "### Samples post data augmentation"
   ]
  },
  {
   "cell_type": "code",
   "execution_count": 22,
   "metadata": {},
   "outputs": [],
   "source": [
    "df2.columns = [\"image_id\", \"race\", \"gender\", \"emotion\"]\n",
    "df2 = df2.drop([\"image_id\"], axis=1)"
   ]
  },
  {
   "cell_type": "code",
   "execution_count": 23,
   "metadata": {},
   "outputs": [
    {
     "name": "stdout",
     "output_type": "stream",
     "text": [
      "Categories and counts for race:\n",
      "race\n",
      "white              2790\n",
      "latino hispanic     390\n",
      "black               111\n",
      "asian                 8\n",
      "Name: count, dtype: int64\n",
      "\n",
      "\n",
      "Categories and counts for gender:\n",
      "gender\n",
      "Woman    2587\n",
      "Man       712\n",
      "Name: count, dtype: int64\n",
      "\n",
      "\n",
      "Categories and counts for emotion:\n",
      "emotion\n",
      "neutral     1172\n",
      "happy       1144\n",
      "sad          594\n",
      "fear         227\n",
      "angry         90\n",
      "surprise      66\n",
      "disgust        6\n",
      "Name: count, dtype: int64\n",
      "\n",
      "\n"
     ]
    }
   ],
   "source": [
    "count_attributes(df2)"
   ]
  },
  {
   "cell_type": "code",
   "execution_count": 24,
   "metadata": {},
   "outputs": [],
   "source": [
    "results_df1 = compute_metrics(df2)"
   ]
  },
  {
   "cell_type": "code",
   "execution_count": 25,
   "metadata": {},
   "outputs": [
    {
     "data": {
      "text/html": [
       "<div>\n",
       "<style scoped>\n",
       "    .dataframe tbody tr th:only-of-type {\n",
       "        vertical-align: middle;\n",
       "    }\n",
       "\n",
       "    .dataframe tbody tr th {\n",
       "        vertical-align: top;\n",
       "    }\n",
       "\n",
       "    .dataframe thead th {\n",
       "        text-align: right;\n",
       "    }\n",
       "</style>\n",
       "<table border=\"1\" class=\"dataframe\">\n",
       "  <thead>\n",
       "    <tr style=\"text-align: right;\">\n",
       "      <th></th>\n",
       "      <th>Attribute</th>\n",
       "      <th>Shannon Diversity</th>\n",
       "      <th>Shannon Evenness</th>\n",
       "      <th>Simpson Diversity</th>\n",
       "      <th>Simpson Evenness</th>\n",
       "    </tr>\n",
       "  </thead>\n",
       "  <tbody>\n",
       "    <tr>\n",
       "      <th>0</th>\n",
       "      <td>race</td>\n",
       "      <td>0.522871</td>\n",
       "      <td>0.377172</td>\n",
       "      <td>1.369225</td>\n",
       "      <td>0.342306</td>\n",
       "    </tr>\n",
       "    <tr>\n",
       "      <th>1</th>\n",
       "      <td>gender</td>\n",
       "      <td>0.521570</td>\n",
       "      <td>0.752467</td>\n",
       "      <td>1.511686</td>\n",
       "      <td>0.755843</td>\n",
       "    </tr>\n",
       "    <tr>\n",
       "      <th>2</th>\n",
       "      <td>emotion</td>\n",
       "      <td>1.415774</td>\n",
       "      <td>0.727564</td>\n",
       "      <td>3.511707</td>\n",
       "      <td>0.501672</td>\n",
       "    </tr>\n",
       "  </tbody>\n",
       "</table>\n",
       "</div>"
      ],
      "text/plain": [
       "  Attribute  Shannon Diversity  Shannon Evenness  Simpson Diversity  \\\n",
       "0      race           0.522871          0.377172           1.369225   \n",
       "1    gender           0.521570          0.752467           1.511686   \n",
       "2   emotion           1.415774          0.727564           3.511707   \n",
       "\n",
       "   Simpson Evenness  \n",
       "0          0.342306  \n",
       "1          0.755843  \n",
       "2          0.501672  "
      ]
     },
     "execution_count": 25,
     "metadata": {},
     "output_type": "execute_result"
    }
   ],
   "source": [
    "results_df1"
   ]
  },
  {
   "cell_type": "code",
   "execution_count": 26,
   "metadata": {},
   "outputs": [
    {
     "name": "stdout",
     "output_type": "stream",
     "text": [
      "Total misclassified samples after data augmentation: 3299\n"
     ]
    }
   ],
   "source": [
    "print(\"Total misclassified samples after data augmentation:\", len(df2))"
   ]
  },
  {
   "cell_type": "code",
   "execution_count": null,
   "metadata": {},
   "outputs": [],
   "source": []
  }
 ],
 "metadata": {
  "accelerator": "TPU",
  "colab": {
   "machine_shape": "hm",
   "provenance": []
  },
  "kernelspec": {
   "display_name": "Python 3 (ipykernel)",
   "language": "python",
   "name": "python3"
  },
  "language_info": {
   "codemirror_mode": {
    "name": "ipython",
    "version": 3
   },
   "file_extension": ".py",
   "mimetype": "text/x-python",
   "name": "python",
   "nbconvert_exporter": "python",
   "pygments_lexer": "ipython3",
   "version": "3.9.16"
  },
  "latex_envs": {
   "LaTeX_envs_menu_present": true,
   "autoclose": false,
   "autocomplete": true,
   "bibliofile": "biblio.bib",
   "cite_by": "apalike",
   "current_citInitial": 1,
   "eqLabelWithNumbers": true,
   "eqNumInitial": 1,
   "hotkeys": {
    "equation": "Ctrl-E",
    "itemize": "Ctrl-I"
   },
   "labels_anchors": false,
   "latex_user_defs": false,
   "report_style_numbering": false,
   "user_envs_cfg": false
  },
  "varInspector": {
   "cols": {
    "lenName": 16,
    "lenType": 16,
    "lenVar": 40
   },
   "kernels_config": {
    "python": {
     "delete_cmd_postfix": "",
     "delete_cmd_prefix": "del ",
     "library": "var_list.py",
     "varRefreshCmd": "print(var_dic_list())"
    },
    "r": {
     "delete_cmd_postfix": ") ",
     "delete_cmd_prefix": "rm(",
     "library": "var_list.r",
     "varRefreshCmd": "cat(var_dic_list()) "
    }
   },
   "types_to_exclude": [
    "module",
    "function",
    "builtin_function_or_method",
    "instance",
    "_Feature"
   ],
   "window_display": false
  }
 },
 "nbformat": 4,
 "nbformat_minor": 1
}
